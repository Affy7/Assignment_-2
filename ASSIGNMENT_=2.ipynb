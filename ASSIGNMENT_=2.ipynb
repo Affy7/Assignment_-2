{
  "nbformat": 4,
  "nbformat_minor": 0,
  "metadata": {
    "colab": {
      "provenance": []
    },
    "kernelspec": {
      "name": "python3",
      "display_name": "Python 3"
    },
    "language_info": {
      "name": "python"
    }
  },
  "cells": [
    {
      "cell_type": "markdown",
      "source": [
        "# **THEORY QUESTIONS**\n",
        "\n",
        "**1) What are data structures, and why are they important?**\n",
        "\n",
        "Ans: Data Structure is way of an oraganising and storing data. So that it can be accesse and manupulate easily and effectively. String, List, Set, Tuple, Dictionary and array are the data structures of Python.\n",
        "\n",
        "\n",
        "\n",
        "\n",
        "**2) Explain the difference between mutable and immutable data types with examples?**\n",
        "\n",
        "Ans: Data structure which can not be edited i.e. elements in it can not be removed or new elements can not be added in it. Such data structure are called as immutable data structure. tuples and strings are immutable data types.\n",
        "Data structure which can be edited i.e. elements in it can be removed or new elements can be added in it. such data structure are called as mutable data structure. list and set are mutable data structure.\n",
        "\n",
        "\n",
        "\n",
        "\n",
        "**3) What are the main differences between lists and tuples in Python\n",
        "?**\n",
        "\n",
        "Ans: Lists are the ordered collection of heterogeneous data. Lists are mutable. It is represented by [ ].\n",
        "Tuples are ordered collection of heterogeneous data. Tuples are immutable. It is represented by ( ).\n",
        "\n",
        "\n",
        "\n",
        "\n",
        "**4) Describe how dictionaries store data?**\n",
        "\n",
        "Ans: Dictionaries stores data in the form of key value pairsl. Here keys are acts as indices.\n",
        "for e.g.\n",
        "Phone_book= {'Dad':1232445, 'Mom':'5485792}\n",
        "\n",
        "\n",
        "\n",
        "\n",
        "**5) Why might you use a set instead of a list in Python?**\n",
        "\n",
        "Ans: Sets are unordered collection of unique elements whereas lists are ordered collection of heterogenous data. In sets we get unique values that's why we use it in the data when while storing data the chances of repeatation of elements is high but we want that each element should occur only once in output, for example grocery list example.\n",
        "\n",
        "\n",
        "\n",
        "\n",
        "**6) What is a string in Python, and how is it different from a list?**\n",
        "\n",
        "Ans: Lists are the ordered collection of heterogenous data and it is represented by [ ] whereas strings are similar to list, it is an ordered collection of hemogenous data and it is represented by ' '. strings are the sequence of characters where each character is a unit of text, to represent and manipulate textual data.\n",
        "\n",
        "\n",
        "\n",
        "\n",
        "**7) How do tuples ensure data integrity in Python?**\n",
        "\n",
        "Ans: Tuples ensures data integrity through their immutability. Once tuple is created it can not be edited i.e. any element can not added or any element can not be eliminated, which prevents accidental changes and ensures data remains consistents throughtout it's use.\n",
        "\n",
        "\n",
        "\n",
        "\n",
        "**8) What is a hash table, and how does it relate to dictionaries in Python?**\n",
        "\n",
        "Ans: Data in dictionaries are stored as key-value paires using hash table, where keys are works as indices and values are works as normal storing data in memory. In dictionareis, data is accessed by using key.\n",
        "when you want to store a a key-value pair in a dictionary, python uses a speacial function called a hash function. This function takes the key and calculates a unique numerical index like a file number in our cabinet. This index tells python where to store the value.\n",
        "\n",
        "\n",
        "\n",
        "\n",
        "**9) Can lists contain different data types in Python?**\n",
        "\n",
        "Ans: Yes, lists can contain different data types in python as lists are ordered collection of heterogenous data.\n",
        "\n",
        "\n",
        "\n",
        "\n",
        "**10) Explain why strings are immutable in Python?**\n",
        "\n",
        "Ans: when strings are created in python for e.g. like a=\"Hello\" then it will be stored as (\"H\", \"e\", \"l\", \"l\", \"o\") in memory block and let's say you are again defining a new string as b=\"Hello\" in python, it will also store data like previous one but rather than creating completely new memory block in python a and b is assigned to same memory block (\"H\", \"e\", \"l\", \"l\", \"o\") to save memory space. Suppose, if strings are mutable and if you are making changes in a string then it will cause problem for b also. So, strings are immutable. We use replace function in string, but in that we are not editing but instead we are defining new string in memory space.\n",
        "\n",
        "\n",
        "\n",
        "\n",
        "**11) What advantages do dictionaries offer over lists for certain tasks?**\n",
        "\n",
        "Ans: You can use dictionaries when you need to store data with associated information like phone book(name and phone number), product catalog (product ID and details) and student database (student ID and grades), but when you try to store this type of data in lists it will difficult for you to retrieve data, not properly organised. whereas if you stores such data in dictionaries you can store information about books like author name, pub data or even a short summary of  the book as a value and can accessed it by defining book number or book name as key. Every book will have unique key and values and it can be retrieve easily.\n",
        "\n",
        "\n",
        "\n",
        "\n",
        "**12) Describe a scenario where using a tuple would be preferable over a list?**\n",
        "\n",
        "Ans: You can use tuple over list when you large data set and it should not be edited like adhaar number details of individual.\n",
        "\n",
        "\n",
        "\n",
        "\n",
        "**13) How do sets handle duplicate values in Python?**\n",
        "\n",
        "Ans: Sets are unordered collection of unique elements. That's why even if you repeat any element in it and execution it will not occure multiple times in set. It treats it as a same value and occurs only once in set after execution.\n",
        "\n",
        "\n",
        "\n",
        "\n",
        "**14) How does the “in” keyword work differently for lists and dictionaries?**\n",
        "\n",
        "Ans: In lists if you want to search any element to know whether it is present or not. You will directly search using element in list whereas in dictories you will use key as key in dictionary. If it is present it will show true and if not it will show false.\n",
        "for e.g.\n",
        "list\n",
        "book_shelf=[\"Harry Potter\", \"Lord of rings\", \"adventure of tintin\"]\n",
        "\n",
        "\"Harry Potter\" in book_shelf\n",
        "\n",
        "output: True\n",
        "\n",
        "Dictionary\n",
        "card={\"123\":\"Harry Potter\", \"345\":\"Lord of rings\", \"678\":\"adventure of tintin\"}\n",
        "\n",
        "\"123\" in card\n",
        "\n",
        "output: True\n",
        "\n",
        "\n",
        "\n",
        "\n",
        "**15) Can you modify the elements of a tuple? Explain why or why not?**\n",
        "\n",
        "Ans: No, tuples are immutable can not be modified. Immutibility provides data integrity, allows for hashing and better performance.\n",
        "\n",
        "\n",
        "\n",
        "\n",
        "**16) What is a nested dictionary, and give an example of its use case?**\n",
        "\n",
        "Ans: Nested dictionary are dictionary in dictionary.\n",
        "\n",
        "for e.g.:\n",
        "\n",
        "students={\"ID_01\":{\"name\":\"raaj\", \"course\":\"DS\", \"Pay_status\":\"Paid\"}, \"ID_02\":{\"name\":\"reem\", \"course\":\"DA\", \"Pay_status\":\"NA\"}}\n",
        "\n",
        "\n",
        "\n",
        "\n",
        "**17) Describe the time complexity of accessing elements in a dictionary?**\n",
        "\n",
        "Ans: We use hash table to store data in memory for dictionary. when we want to access a value using it's key. Python applies same hash function to the key to get the index and then it goes directly to the index in the hash table and retrieves the value. It is direct look up methods, regardless how many items are in dictionary, it will mostly take constant time.\n",
        "\n",
        "\n",
        "\n",
        "\n",
        "**19) In what situations are lists preferred over dictionaries?**\n",
        "\n",
        "Ans: Lists are preferred over dictionaries where order does matter, where we can have duplicate values, can access it by it's position and also can get the data in the order they were added (iteration ordering) whereas in dictionaries order doesn't matter, were we have unique key values, cannot access it by it's postion.\n",
        "\n",
        "\n",
        "\n",
        "\n",
        "**20) Why are dictionaries considered unordered, and how does that affect data retrieval?**\n",
        "\n",
        "Ans: Even if dictionaries are unordered, it will not affect data retrieval as key here used as a index and key is unique for each values.\n",
        "e.g.:\n",
        "\n",
        "Dictionary\n",
        "\n",
        "dic={\"123\":\"Harry Potter\", \"345\":\"Lord of rings\"}\n",
        "\n",
        "dic[\"123\"]\n",
        "\n",
        "output: 'Harry Potter'\n",
        "\n",
        "\n",
        "\n",
        "\n",
        "**21) Explain the difference between a list and a dictionary in terms of data retrieval?**\n",
        "\n",
        "Ans: In list index are used to retriev data whereas in dictionary we used key as index to retriev data.\n",
        "e.g.\n",
        "\n",
        "list\n",
        "\n",
        "lis=[1,2,3,\"reem\"]\n",
        "\n",
        "lis[0]\n",
        "\n",
        "output: 1\n",
        "\n",
        "Dictionary\n",
        "\n",
        "dic={\"123\":\"Harry Potter\", \"345\":\"Lord of rings\"}\n",
        "\n",
        "dic[\"123\"]\n",
        "\n",
        "output: 'Harry Potter'"
      ],
      "metadata": {
        "id": "ahf9g0OefbDa"
      }
    },
    {
      "cell_type": "code",
      "execution_count": null,
      "metadata": {
        "id": "GhepKfffU7By",
        "colab": {
          "base_uri": "https://localhost:8080/"
        },
        "outputId": "23e1caf1-d8c4-49e7-acde-c85086b3f5a7"
      },
      "outputs": [
        {
          "output_type": "stream",
          "name": "stdout",
          "text": [
            "reem\n"
          ]
        }
      ],
      "source": [
        "#PRACTICAL QUESTIONS\n",
        "#O1) Write a code to create a string with your name and print it?\n",
        "name=\"reem\"\n",
        "print(name)"
      ]
    },
    {
      "cell_type": "code",
      "source": [
        "#02) Write a code to find the length of the string \"Hello World\"?\n",
        "name=\"Hello World\"\n",
        "len(name)"
      ],
      "metadata": {
        "id": "QJt6tCJrWPrk",
        "colab": {
          "base_uri": "https://localhost:8080/"
        },
        "outputId": "45c01904-3b49-493c-e13c-47580383da78"
      },
      "execution_count": null,
      "outputs": [
        {
          "output_type": "execute_result",
          "data": {
            "text/plain": [
              "11"
            ]
          },
          "metadata": {},
          "execution_count": 6
        }
      ]
    },
    {
      "cell_type": "code",
      "source": [
        "#03) Write a code to slice the first 3 characters from the string \"Python Programming\"?\n",
        "str1=\"Python Programming\"\n",
        "str1[0:4]"
      ],
      "metadata": {
        "id": "DhCRS7kaWXSt",
        "colab": {
          "base_uri": "https://localhost:8080/",
          "height": 35
        },
        "outputId": "a0325f33-bfc5-4769-9864-e68bd07aca2a"
      },
      "execution_count": null,
      "outputs": [
        {
          "output_type": "execute_result",
          "data": {
            "text/plain": [
              "'Pyth'"
            ],
            "application/vnd.google.colaboratory.intrinsic+json": {
              "type": "string"
            }
          },
          "metadata": {},
          "execution_count": 7
        }
      ]
    },
    {
      "cell_type": "code",
      "source": [
        "#04) Write a code to convert the string \"hello\" to uppercase?\n",
        "str1=\"hello\"\n",
        "str1.upper()"
      ],
      "metadata": {
        "id": "wb02aSntWY-P",
        "colab": {
          "base_uri": "https://localhost:8080/",
          "height": 35
        },
        "outputId": "259a28c9-cd10-4136-a0d4-4ce4c60f7d36"
      },
      "execution_count": null,
      "outputs": [
        {
          "output_type": "execute_result",
          "data": {
            "text/plain": [
              "'HELLO'"
            ],
            "application/vnd.google.colaboratory.intrinsic+json": {
              "type": "string"
            }
          },
          "metadata": {},
          "execution_count": 10
        }
      ]
    },
    {
      "cell_type": "code",
      "source": [
        "#05) Write a code to replace the word \"apple\" with \"orange\" in the string \"I like apple\"?\n",
        "exm=\"I like apple\"\n",
        "exm.replace('apple', 'orange')"
      ],
      "metadata": {
        "id": "bLBUgwd0Wamv",
        "colab": {
          "base_uri": "https://localhost:8080/",
          "height": 35
        },
        "outputId": "459e7c60-5a60-4240-8003-23f061395d4b"
      },
      "execution_count": null,
      "outputs": [
        {
          "output_type": "execute_result",
          "data": {
            "text/plain": [
              "'I like orange'"
            ],
            "application/vnd.google.colaboratory.intrinsic+json": {
              "type": "string"
            }
          },
          "metadata": {},
          "execution_count": 11
        }
      ]
    },
    {
      "cell_type": "code",
      "source": [
        "#06) Write a code to create a list with numbers 1 to 5 and print it?\n",
        "lis=[1,2,3,4,5]\n",
        "print(lis)"
      ],
      "metadata": {
        "id": "DQk1VUefWdlZ",
        "colab": {
          "base_uri": "https://localhost:8080/"
        },
        "outputId": "a236ca14-0e6a-48c7-edfd-aae1a67a3f9e"
      },
      "execution_count": null,
      "outputs": [
        {
          "output_type": "stream",
          "name": "stdout",
          "text": [
            "[1, 2, 3, 4, 5]\n"
          ]
        }
      ]
    },
    {
      "cell_type": "code",
      "source": [
        "#07) Write a code to append the number 10 to the list [1, 2, 3, 4]?\n",
        "lis=[1,2,3,4]\n",
        "lis.append(10)\n",
        "lis"
      ],
      "metadata": {
        "id": "CSo0Z5iRWf8B",
        "colab": {
          "base_uri": "https://localhost:8080/"
        },
        "outputId": "f170539a-bb97-490a-90e4-e73da9c3b49c"
      },
      "execution_count": null,
      "outputs": [
        {
          "output_type": "execute_result",
          "data": {
            "text/plain": [
              "[1, 2, 3, 4, 10]"
            ]
          },
          "metadata": {},
          "execution_count": 13
        }
      ]
    },
    {
      "cell_type": "code",
      "source": [
        "#08) Write a code to remove the number 3 from the list [1, 2, 3, 4, 5]?\n",
        "lis=[1,2,3,4,5]\n",
        "lis.pop(2)"
      ],
      "metadata": {
        "id": "JbSzkmWGWhWQ",
        "colab": {
          "base_uri": "https://localhost:8080/"
        },
        "outputId": "84eed5d5-336c-499c-ea94-5442dd065220"
      },
      "execution_count": null,
      "outputs": [
        {
          "output_type": "execute_result",
          "data": {
            "text/plain": [
              "3"
            ]
          },
          "metadata": {},
          "execution_count": 15
        }
      ]
    },
    {
      "cell_type": "code",
      "source": [
        "#09) Write a code to access the second element in the list ['a', 'b', 'c', 'd']?\n",
        "lis=['a', 'b', 'c', 'd']\n",
        "lis[1]"
      ],
      "metadata": {
        "id": "w2Sc7WRVWi20",
        "colab": {
          "base_uri": "https://localhost:8080/",
          "height": 35
        },
        "outputId": "4faa13e0-4b3b-41d6-b03a-ab1d8bd1193f"
      },
      "execution_count": null,
      "outputs": [
        {
          "output_type": "execute_result",
          "data": {
            "text/plain": [
              "'b'"
            ],
            "application/vnd.google.colaboratory.intrinsic+json": {
              "type": "string"
            }
          },
          "metadata": {},
          "execution_count": 16
        }
      ]
    },
    {
      "cell_type": "code",
      "source": [
        "#10) Write a code to reverse the list [10, 20, 30, 40, 50]?\n",
        "lis=[10,20,30,40,50]\n",
        "lis[::-1]"
      ],
      "metadata": {
        "id": "pEIFbvhEWkyc",
        "colab": {
          "base_uri": "https://localhost:8080/"
        },
        "outputId": "5d4c3196-c5a4-4a62-91e6-e6e6c653b7d3"
      },
      "execution_count": null,
      "outputs": [
        {
          "output_type": "execute_result",
          "data": {
            "text/plain": [
              "[50, 40, 30, 20, 10]"
            ]
          },
          "metadata": {},
          "execution_count": 17
        }
      ]
    },
    {
      "cell_type": "code",
      "source": [
        "#11) Write a code to create a tuple with the elements 10, 20, 30 and print it?\n",
        "tuple_1=(10,20,30)\n",
        "print(tuple_1)"
      ],
      "metadata": {
        "colab": {
          "base_uri": "https://localhost:8080/"
        },
        "id": "2U0Se0MFXoXt",
        "outputId": "48e2b30f-81db-4921-e94b-ca5a631e556e"
      },
      "execution_count": null,
      "outputs": [
        {
          "output_type": "stream",
          "name": "stdout",
          "text": [
            "(10, 20, 30)\n"
          ]
        }
      ]
    },
    {
      "cell_type": "code",
      "source": [
        "#12) Write a code to access the first element of the tuple ('apple', 'banana', 'cherry')?\n",
        "tuple_2=('apple', 'banana', 'cherry')\n",
        "tuple_2[0]"
      ],
      "metadata": {
        "colab": {
          "base_uri": "https://localhost:8080/",
          "height": 35
        },
        "id": "ZaCRkJNcXp-Y",
        "outputId": "003eb08c-57c9-4074-8e7d-6ecde9370eb4"
      },
      "execution_count": null,
      "outputs": [
        {
          "output_type": "execute_result",
          "data": {
            "text/plain": [
              "'apple'"
            ],
            "application/vnd.google.colaboratory.intrinsic+json": {
              "type": "string"
            }
          },
          "metadata": {},
          "execution_count": 2
        }
      ]
    },
    {
      "cell_type": "code",
      "source": [
        "#13) Write a code to count how many times the number 2 appears in the tuple (1, 2, 3, 2, 4, 2)?\n",
        "tuple_3=(1,2,3,2,4,2)\n",
        "tuple_3.count(2)"
      ],
      "metadata": {
        "colab": {
          "base_uri": "https://localhost:8080/"
        },
        "id": "UcD4oYC2Xrk7",
        "outputId": "44a714d8-7ddc-4684-acad-45522e612c83"
      },
      "execution_count": null,
      "outputs": [
        {
          "output_type": "execute_result",
          "data": {
            "text/plain": [
              "3"
            ]
          },
          "metadata": {},
          "execution_count": 4
        }
      ]
    },
    {
      "cell_type": "code",
      "source": [
        "#14) Write a code to find the index of the element \"cat\" in the tuple ('dog', 'cat', 'rabbit')?\n",
        "tuple_4=('dog', 'cat', 'rabbit')\n",
        "tuple_4.index(\"cat\")"
      ],
      "metadata": {
        "colab": {
          "base_uri": "https://localhost:8080/"
        },
        "id": "cVo8GCNjXtFt",
        "outputId": "be92e914-91a7-4503-d564-42a4da3e81ce"
      },
      "execution_count": null,
      "outputs": [
        {
          "output_type": "execute_result",
          "data": {
            "text/plain": [
              "1"
            ]
          },
          "metadata": {},
          "execution_count": 5
        }
      ]
    },
    {
      "cell_type": "code",
      "source": [
        "#15) Write a code to check if the element \"banana\" is in the tuple ('apple', 'orange', 'banana')?\n",
        "tuple_5=('apple', 'orange', 'banana')\n",
        "'banana' in tuple_5"
      ],
      "metadata": {
        "id": "EnoR9f93Xup4",
        "colab": {
          "base_uri": "https://localhost:8080/"
        },
        "outputId": "18b00862-22b5-4785-b3cc-98539b489f47"
      },
      "execution_count": null,
      "outputs": [
        {
          "output_type": "execute_result",
          "data": {
            "text/plain": [
              "True"
            ]
          },
          "metadata": {},
          "execution_count": 8
        }
      ]
    },
    {
      "cell_type": "code",
      "source": [
        "#16) Write a code to create a set with the elements 1, 2, 3, 4, 5 and print it?\n",
        "set_ex={1,2,3,4,5}\n",
        "print(set_ex)"
      ],
      "metadata": {
        "id": "5-X6slxJXwBw",
        "colab": {
          "base_uri": "https://localhost:8080/"
        },
        "outputId": "09d9fab0-d84e-40bf-9cce-0ff9b3dfb354"
      },
      "execution_count": null,
      "outputs": [
        {
          "output_type": "stream",
          "name": "stdout",
          "text": [
            "{1, 2, 3, 4, 5}\n"
          ]
        }
      ]
    },
    {
      "cell_type": "code",
      "source": [
        "#17) Write a code to add the element 6 to the set {1, 2, 3, 4}?\n",
        "set1={1,2,3,4}\n",
        "set1.add(6)\n",
        "set1"
      ],
      "metadata": {
        "id": "204ESI11XybO",
        "colab": {
          "base_uri": "https://localhost:8080/"
        },
        "outputId": "ef1616dc-26f0-4485-af7c-0a71db135a84"
      },
      "execution_count": null,
      "outputs": [
        {
          "output_type": "execute_result",
          "data": {
            "text/plain": [
              "{1, 2, 3, 4, 6}"
            ]
          },
          "metadata": {},
          "execution_count": 2
        }
      ]
    },
    {
      "cell_type": "code",
      "source": [
        "#18) Write a code to create a tuple with the elements 10, 20, 30 and print it?\n",
        "tuple_ex=(10,20,30)\n",
        "print(tuple_ex)"
      ],
      "metadata": {
        "id": "HbUc_NIpX1-W",
        "colab": {
          "base_uri": "https://localhost:8080/"
        },
        "outputId": "6e08883f-f357-4239-c764-8d7d056544d6"
      },
      "execution_count": null,
      "outputs": [
        {
          "output_type": "stream",
          "name": "stdout",
          "text": [
            "(10, 20, 30)\n"
          ]
        }
      ]
    },
    {
      "cell_type": "code",
      "source": [
        "#19) Write a code to access the first element of the tuple ('apple', 'banana', 'cherry')?\n",
        "tuple_0=('apple', 'banana', 'cherry')\n",
        "tuple_0[0]"
      ],
      "metadata": {
        "id": "Rnr6fDMLX5aN",
        "colab": {
          "base_uri": "https://localhost:8080/",
          "height": 35
        },
        "outputId": "8e6502f3-3978-489e-9106-d12c5e662cc6"
      },
      "execution_count": null,
      "outputs": [
        {
          "output_type": "execute_result",
          "data": {
            "text/plain": [
              "'apple'"
            ],
            "application/vnd.google.colaboratory.intrinsic+json": {
              "type": "string"
            }
          },
          "metadata": {},
          "execution_count": 10
        }
      ]
    },
    {
      "cell_type": "code",
      "source": [
        "#20) Write a code to count how many times the number 2 appears in the tuple (1, 2, 3, 2, 4, 2)?\n",
        "tuple_8=(1,2,3,2,4,2)\n",
        "tuple_8.count(2)"
      ],
      "metadata": {
        "id": "qCuZvqR1X69k",
        "colab": {
          "base_uri": "https://localhost:8080/"
        },
        "outputId": "9159f08c-c617-40b7-e7fa-6914cdfd2de2"
      },
      "execution_count": null,
      "outputs": [
        {
          "output_type": "execute_result",
          "data": {
            "text/plain": [
              "3"
            ]
          },
          "metadata": {},
          "execution_count": 11
        }
      ]
    },
    {
      "cell_type": "code",
      "source": [
        "#21) Write a code to find the index of the element \"cat\" in the tuple ('dog', 'cat', 'rabbit')?\n",
        "tuple_6=('dog', 'cat', 'rabbit')\n",
        "tuple_6.index(\"cat\")"
      ],
      "metadata": {
        "id": "HUZgbbm2X82u",
        "colab": {
          "base_uri": "https://localhost:8080/"
        },
        "outputId": "b1b2d8ea-247d-43d9-d6b2-3d5c6ac53e85"
      },
      "execution_count": null,
      "outputs": [
        {
          "output_type": "execute_result",
          "data": {
            "text/plain": [
              "1"
            ]
          },
          "metadata": {},
          "execution_count": 12
        }
      ]
    },
    {
      "cell_type": "code",
      "source": [
        "#22) Write a code to check if the element \"banana\" is in the tuple ('apple', 'orange', 'banana')?\n",
        "tuple_6=('apple', 'orange', 'banana')\n",
        "'banana' in tuple_6"
      ],
      "metadata": {
        "id": "DVpzF5OgX-6-",
        "colab": {
          "base_uri": "https://localhost:8080/"
        },
        "outputId": "2be9f284-f613-4c38-e878-29c69245d4f2"
      },
      "execution_count": null,
      "outputs": [
        {
          "output_type": "execute_result",
          "data": {
            "text/plain": [
              "True"
            ]
          },
          "metadata": {},
          "execution_count": 13
        }
      ]
    },
    {
      "cell_type": "code",
      "source": [
        "#23) Write a code to create a set with the elements 1, 2, 3, 4, 5 and print it?\n",
        "set_2={1,2,3,4,5}\n",
        "print(set_2)"
      ],
      "metadata": {
        "id": "M99OCQAGYAMT",
        "colab": {
          "base_uri": "https://localhost:8080/"
        },
        "outputId": "86c30791-c96b-4d78-f959-8f79a3079d1f"
      },
      "execution_count": null,
      "outputs": [
        {
          "output_type": "stream",
          "name": "stdout",
          "text": [
            "{1, 2, 3, 4, 5}\n"
          ]
        }
      ]
    },
    {
      "cell_type": "code",
      "source": [
        "#24) Write a code to add the element 6 to the set {1, 2, 3, 4}?\n",
        "set_3={1,2,3,4}\n",
        "print(set_3)"
      ],
      "metadata": {
        "id": "LRuPTTx-YCin",
        "colab": {
          "base_uri": "https://localhost:8080/"
        },
        "outputId": "c59138ec-3252-4e7b-9b44-b10e727afbfb"
      },
      "execution_count": null,
      "outputs": [
        {
          "output_type": "stream",
          "name": "stdout",
          "text": [
            "{1, 2, 3, 4}\n"
          ]
        }
      ]
    },
    {
      "cell_type": "code",
      "source": [],
      "metadata": {
        "id": "ibRRSRA08KdG"
      },
      "execution_count": null,
      "outputs": []
    }
  ]
}